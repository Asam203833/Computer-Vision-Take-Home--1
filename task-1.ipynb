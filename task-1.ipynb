{
 "cells": [
  {
   "cell_type": "markdown",
   "id": "6bb0ed82",
   "metadata": {},
   "source": [
    "# Grayscale intensity quantisation\n",
    "This notebook maps the 256 possible grey levels of an image to a user-selected power-of-2 amount (2 … 256)."
   ]
  },
  {
   "cell_type": "code",
   "execution_count": 1,
   "id": "6a0a5d8b",
   "metadata": {
    "tags": []
   },
   "outputs": [
    {
     "name": "stdout",
     "output_type": "stream",
     "text": [
      "Requirement already satisfied: pillow in c:\\python312\\lib\\site-packages (10.3.0)\n",
      "Requirement already satisfied: numpy in c:\\python312\\lib\\site-packages (1.26.4)\n",
      "Requirement already satisfied: ipywidgets in c:\\users\\asam\\appdata\\roaming\\python\\python312\\site-packages (8.1.7)\n",
      "Requirement already satisfied: comm>=0.1.3 in c:\\users\\asam\\appdata\\roaming\\python\\python312\\site-packages (from ipywidgets) (0.2.2)\n",
      "Requirement already satisfied: ipython>=6.1.0 in c:\\users\\asam\\appdata\\roaming\\python\\python312\\site-packages (from ipywidgets) (8.25.0)\n",
      "Requirement already satisfied: traitlets>=4.3.1 in c:\\users\\asam\\appdata\\roaming\\python\\python312\\site-packages (from ipywidgets) (5.14.3)\n",
      "Requirement already satisfied: widgetsnbextension~=4.0.14 in c:\\python312\\lib\\site-packages (from ipywidgets) (4.0.14)\n",
      "Requirement already satisfied: jupyterlab_widgets~=3.0.15 in c:\\users\\asam\\appdata\\roaming\\python\\python312\\site-packages (from ipywidgets) (3.0.15)\n",
      "Requirement already satisfied: decorator in c:\\users\\asam\\appdata\\roaming\\python\\python312\\site-packages (from ipython>=6.1.0->ipywidgets) (5.1.1)\n",
      "Requirement already satisfied: jedi>=0.16 in c:\\users\\asam\\appdata\\roaming\\python\\python312\\site-packages (from ipython>=6.1.0->ipywidgets) (0.19.1)\n",
      "Requirement already satisfied: matplotlib-inline in c:\\users\\asam\\appdata\\roaming\\python\\python312\\site-packages (from ipython>=6.1.0->ipywidgets) (0.1.7)\n",
      "Requirement already satisfied: prompt-toolkit<3.1.0,>=3.0.41 in c:\\users\\asam\\appdata\\roaming\\python\\python312\\site-packages (from ipython>=6.1.0->ipywidgets) (3.0.47)\n",
      "Requirement already satisfied: pygments>=2.4.0 in c:\\python312\\lib\\site-packages (from ipython>=6.1.0->ipywidgets) (2.18.0)\n",
      "Requirement already satisfied: stack-data in c:\\users\\asam\\appdata\\roaming\\python\\python312\\site-packages (from ipython>=6.1.0->ipywidgets) (0.6.3)\n",
      "Requirement already satisfied: colorama in c:\\python312\\lib\\site-packages (from ipython>=6.1.0->ipywidgets) (0.4.6)\n",
      "Requirement already satisfied: parso<0.9.0,>=0.8.3 in c:\\users\\asam\\appdata\\roaming\\python\\python312\\site-packages (from jedi>=0.16->ipython>=6.1.0->ipywidgets) (0.8.4)\n",
      "Requirement already satisfied: wcwidth in c:\\users\\asam\\appdata\\roaming\\python\\python312\\site-packages (from prompt-toolkit<3.1.0,>=3.0.41->ipython>=6.1.0->ipywidgets) (0.2.13)\n",
      "Requirement already satisfied: executing>=1.2.0 in c:\\users\\asam\\appdata\\roaming\\python\\python312\\site-packages (from stack-data->ipython>=6.1.0->ipywidgets) (2.0.1)\n",
      "Requirement already satisfied: asttokens>=2.1.0 in c:\\users\\asam\\appdata\\roaming\\python\\python312\\site-packages (from stack-data->ipython>=6.1.0->ipywidgets) (2.4.1)\n",
      "Requirement already satisfied: pure-eval in c:\\users\\asam\\appdata\\roaming\\python\\python312\\site-packages (from stack-data->ipython>=6.1.0->ipywidgets) (0.2.2)\n",
      "Requirement already satisfied: six>=1.12.0 in c:\\python312\\lib\\site-packages (from asttokens>=2.1.0->stack-data->ipython>=6.1.0->ipywidgets) (1.16.0)\n"
     ]
    },
    {
     "name": "stderr",
     "output_type": "stream",
     "text": [
      "WARNING: Ignoring invalid distribution ~ (C:\\Python312\\Lib\\site-packages)\n",
      "WARNING: Ignoring invalid distribution ~ip (C:\\Python312\\Lib\\site-packages)\n",
      "WARNING: Ignoring invalid distribution ~lask (C:\\Python312\\Lib\\site-packages)\n",
      "DEPRECATION: Loading egg at c:\\python312\\lib\\site-packages\\vboxapi-1.0-py3.12.egg is deprecated. pip 25.1 will enforce this behaviour change. A possible replacement is to use pip for package installation. Discussion can be found at https://github.com/pypa/pip/issues/12330\n",
      "WARNING: Ignoring invalid distribution ~ (C:\\Python312\\Lib\\site-packages)\n",
      "WARNING: Ignoring invalid distribution ~ip (C:\\Python312\\Lib\\site-packages)\n",
      "WARNING: Ignoring invalid distribution ~lask (C:\\Python312\\Lib\\site-packages)\n",
      "\n",
      "[notice] A new release of pip is available: 24.3.1 -> 25.1.1\n",
      "[notice] To update, run: python.exe -m pip install --upgrade pip\n"
     ]
    }
   ],
   "source": [
    "!pip install pillow numpy ipywidgets --user\n"
   ]
  },
  {
   "cell_type": "code",
   "execution_count": 2,
   "id": "f45a8717",
   "metadata": {},
   "outputs": [],
   "source": [
    "from pathlib import Path\n",
    "import numpy as np\n",
    "from PIL import Image\n",
    "import ipywidgets as widgets\n",
    "from IPython.display import display"
   ]
  },
  {
   "cell_type": "code",
   "execution_count": 3,
   "id": "ea490814",
   "metadata": {},
   "outputs": [],
   "source": [
    "def gray_quantize(img_path: str, levels: int) -> Image.Image:\n",
    "    \"\"\"Return a grayscale image whose intensities are quantised to *levels* (power-of-2).\"\"\"\n",
    "    if levels < 2 or levels > 256 or levels & (levels - 1):\n",
    "        raise ValueError(\"levels must be a power of 2 in [2, 256]\")\n",
    "\n",
    "    # load & convert to 8-bit greyscale\n",
    "    g = Image.open(img_path).convert('L')\n",
    "\n",
    "    # integer quantisation\n",
    "    step      = 256 // levels             # width of each interval\n",
    "    arr       = np.asarray(g, dtype=np.uint8)\n",
    "    quantised = (arr // step) * step      # map every pixel to 0, step, 2*step, …\n",
    "\n",
    "    return Image.fromarray(quantised, mode='L')"
   ]
  },
  {
   "cell_type": "markdown",
   "id": "408744bd",
   "metadata": {},
   "source": [
    "## Choose the number of grey levels\n",
    "Use the slider (powers of 2) to see the effect immediately."
   ]
  },
  {
   "cell_type": "code",
   "execution_count": null,
   "id": "a7d8f3ea",
   "metadata": {},
   "outputs": [
    {
     "data": {
      "application/vnd.jupyter.widget-view+json": {
       "model_id": "e750fdbd08e94673b79358b583053b8b",
       "version_major": 2,
       "version_minor": 0
      },
      "text/plain": [
       "SelectionSlider(continuous_update=False, description='Levels:', options=(2, 4, 8, 16, 32, 64, 128, 256), value…"
      ]
     },
     "metadata": {},
     "output_type": "display_data"
    },
    {
     "data": {
      "application/vnd.jupyter.widget-view+json": {
       "model_id": "88882e43b21441dea7943632d205d9dc",
       "version_major": 2,
       "version_minor": 0
      },
      "text/plain": [
       "Output()"
      ]
     },
     "metadata": {},
     "output_type": "display_data"
    }
   ],
   "source": [
    "IMG = Path('task-1.jpg')          # change if your file lives elsewhere\n",
    "\n",
    "slider = widgets.SelectionSlider(\n",
    "    options=[2**n for n in range(1, 9)],  # 2 → 256\n",
    "    value=2,\n",
    "    description='Levels:',\n",
    "    continuous_update=False,\n",
    ")\n",
    "\n",
    "out = widgets.Output()\n",
    "\n",
    "def update(change):\n",
    "    with out:\n",
    "        out.clear_output(wait=True)\n",
    "        qimg = gray_quantize(IMG, change['new'])\n",
    "        display(qimg)\n",
    "\n",
    "slider.observe(update, names='value')\n",
    "\n",
    "display(slider)\n",
    "update({'new': slider.value})  # show initial render\n",
    "display(out)"
   ]
  }
 ],
 "metadata": {
  "kernelspec": {
   "display_name": "Python 3",
   "language": "python",
   "name": "python3"
  },
  "language_info": {
   "codemirror_mode": {
    "name": "ipython",
    "version": 3
   },
   "file_extension": ".py",
   "mimetype": "text/x-python",
   "name": "python",
   "nbconvert_exporter": "python",
   "pygments_lexer": "ipython3",
   "version": "3.12.1"
  }
 },
 "nbformat": 4,
 "nbformat_minor": 5
}
